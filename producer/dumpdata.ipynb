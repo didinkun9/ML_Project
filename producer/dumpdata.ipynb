{
 "cells": [
  {
   "cell_type": "code",
   "execution_count": 1,
   "id": "41d469e1-33c6-4683-ad77-e51f5be0704e",
   "metadata": {},
   "outputs": [
    {
     "name": "stdout",
     "output_type": "stream",
     "text": [
      "The data is inserted to old_information_saskia.\n"
     ]
    }
   ],
   "source": [
    "import pandas as pd\n",
    "import urllib.parse\n",
    "\n",
    "from sqlalchemy import create_engine\n",
    "\n",
    "def insert_data_to_postgresql(df, table_name, db_url):\n",
    "    try:\n",
    "        engine = create_engine(db_url)\n",
    "\n",
    "        df.to_sql(table_name, engine, if_exists='append', index=False)\n",
    "        print(f\"The data is inserted to {table_name}.\")\n",
    "    except Exception as e:\n",
    "        print(f\"Error: {e}\")\n",
    "\n",
    "if __name__ == \"__main__\":\n",
    "    csv_path = \"Old_Information.csv\"\n",
    "    data = pd.read_csv(csv_path)\n",
    "    \n",
    "    # connection to PostgreSQL\n",
    "    username = \"ftde03\"\n",
    "    password = \"ftde03!@#\"\n",
    "    host = \"34.56.65.122\"\n",
    "    port = \"5432\"\n",
    "    database = \"ftde03\" \n",
    "    password = urllib.parse.quote_plus(password)\n",
    "\n",
    "    # connection URL to PostgreSQL\n",
    "    db_url = f\"postgresql://{username}:{password}@{host}:{port}/{database}\"\n",
    "\n",
    "    table_name = \"old_information_saskia\"\n",
    "    insert_data_to_postgresql(data, table_name, db_url)"
   ]
  }
 ],
 "metadata": {
  "kernelspec": {
   "display_name": "base",
   "language": "python",
   "name": "python3"
  },
  "language_info": {
   "codemirror_mode": {
    "name": "ipython",
    "version": 3
   },
   "file_extension": ".py",
   "mimetype": "text/x-python",
   "name": "python",
   "nbconvert_exporter": "python",
   "pygments_lexer": "ipython3",
   "version": "3.12.8"
  }
 },
 "nbformat": 4,
 "nbformat_minor": 5
}
