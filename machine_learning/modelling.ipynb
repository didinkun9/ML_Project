{
 "cells": [
  {
   "cell_type": "code",
   "execution_count": 1,
   "metadata": {
    "tags": []
   },
   "outputs": [
    {
     "name": "stdout",
     "output_type": "stream",
     "text": [
      "Preprocessing data type has been saved...\n",
      "Preprocessing data amount has been saved...\n",
      "Preprocessing data oldbalanceOrg has been saved...\n",
      "Preprocessing data newbalanceOrig has been saved...\n",
      "Preprocessing data oldbalanceDest has been saved...\n",
      "Preprocessing data newbalanceDest has been saved...\n",
      "Training model done in 0.9316391944885254 seconds...\n"
     ]
    }
   ],
   "source": [
    "import os\n",
    "import pickle\n",
    "import time\n",
    "import pandas as pd\n",
    "from sklearn.preprocessing import StandardScaler, OneHotEncoder\n",
    "from sklearn.linear_model import LogisticRegression\n",
    "import warnings\n",
    "\n",
    "warnings.filterwarnings('ignore')\n",
    "\n",
    "def prepOneHotEncoder(df, col, pathPackages):\n",
    "    oneHotEncoder = pickle.load(open(os.path.join(pathPackages,'prep' + col + '.pkl') , 'rb'))\n",
    "    dfOneHotEncoder = pd.DataFrame(oneHotEncoder.transform(df[[col]]).toarray(),\n",
    "                                   columns=[col + \"_\" + str(i+1) for i in range(len(oneHotEncoder.categories_[0]))])\n",
    "    df = pd.concat([df.drop(col, axis=1), dfOneHotEncoder], axis=1)\n",
    "    return df\n",
    "\n",
    "def prepStandardScaler(df, col, pathPackages):\n",
    "    scaler = pickle.load(open(os.path.join(pathPackages,'prep' + col + '.pkl'), 'rb'))\n",
    "    df[col] = scaler.transform(df[[col]])\n",
    "    return df\n",
    "\n",
    "def runModel(data, path):\n",
    "    pathPackages = os.path.join(path, \"packages\") + \"\"\n",
    "    col = pickle.load(open(os.path.join(pathPackages, 'columnModelling.pkl'), 'rb'))\n",
    "    df = pd.DataFrame(data, index=[0])\n",
    "    df = df[col]\n",
    "\n",
    "    df = prepOneHotEncoder(df, 'type', pathPackages)\n",
    "\n",
    "    cols_to_scale = ['amount', 'oldbalanceOrg', 'newbalanceOrig', 'oldbalanceDest', 'newbalanceDest']\n",
    "    for col in cols_to_scale:\n",
    "        df = prepStandardScaler(df, col, pathPackages)\n",
    "\n",
    "    X = df.values\n",
    "    model = pickle.load(open(os.path.join(pathPackages, 'modelFraud.pkl'), 'rb'))\n",
    "    y = model.predict(X)[0]\n",
    "    if y == 0:\n",
    "        return \"White List\"\n",
    "    else:\n",
    "        return \"Fraud\"\n",
    "\n",
    "if __name__ == \"__main__\":\n",
    "    pathPackages = os.getcwd() + \"\\\\\" + \"packages\" + \"\\\\\"\n",
    "    target = 'isFraud'\n",
    "    \n",
    "    data = pd.read_csv(pathPackages + 'Fraud_Detection.csv')\n",
    "    data = data.drop(['nameOrig', 'nameDest'], axis=1)\n",
    "    \n",
    "    df = data.drop(target, axis=1)\n",
    "    pickle.dump(df.columns.tolist(), open(pathPackages + 'columnModelling.pkl', 'wb'))\n",
    "\n",
    "    colOneHotEncoder = ['type']\n",
    "    for col in colOneHotEncoder:\n",
    "        df = prepOneHotEncoder(df, col, pathPackages)\n",
    "\n",
    "    colprepStandardScaler = ['amount', 'oldbalanceOrg', 'newbalanceOrig', 'oldbalanceDest', 'newbalanceDest']\n",
    "    for col in colprepStandardScaler:\n",
    "        df = prepStandardScaler(df, col, pathPackages)\n",
    "\n",
    "    X = df.values.tolist()\n",
    "    y = data[[target]].values.ravel()\n",
    "    \n",
    "    start = time.time()\n",
    "    model = LogisticRegression()\n",
    "    model.fit(X, y)\n",
    "    stop = time.time()\n",
    "    \n",
    "    with open(pathPackages + 'modelFraud.pkl', 'wb') as file:\n",
    "        pickle.dump(model, file)\n",
    "    print(f\"Training model done in {stop-start} seconds...\")"
   ]
  }
 ],
 "metadata": {
  "kernelspec": {
   "display_name": "base",
   "language": "python",
   "name": "python3"
  },
  "language_info": {
   "codemirror_mode": {
    "name": "ipython",
    "version": 3
   },
   "file_extension": ".py",
   "mimetype": "text/x-python",
   "name": "python",
   "nbconvert_exporter": "python",
   "pygments_lexer": "ipython3",
   "version": "3.12.8"
  }
 },
 "nbformat": 4,
 "nbformat_minor": 4
}
